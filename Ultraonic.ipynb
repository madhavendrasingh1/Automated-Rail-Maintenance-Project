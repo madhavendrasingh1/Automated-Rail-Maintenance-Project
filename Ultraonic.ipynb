{
 "cells": [
  {
   "cell_type": "code",
   "execution_count": 1,
   "id": "5287a9a2",
   "metadata": {},
   "outputs": [],
   "source": [
    "import pandas as pd\n",
    "import numpy as np\n",
    "from sklearn.model_selection import train_test_split\n",
    "from sklearn.preprocessing import LabelEncoder, StandardScaler\n",
    "import tensorflow as tf\n",
    "from tensorflow.keras.models import Model\n",
    "from tensorflow.keras.layers import Input, LSTM, Dense, Dropout, Concatenate\n",
    "\n",
    "# === Load synthetic ultrasonic data ===\n",
    "temporal_df = pd.read_csv('ultrasonic_temporal.csv')\n",
    "spatial_df = pd.read_csv('ultrasonic_spatial.csv')"
   ]
  },
  {
   "cell_type": "code",
   "execution_count": 2,
   "id": "59e5b059",
   "metadata": {},
   "outputs": [
    {
     "name": "stdout",
     "output_type": "stream",
     "text": [
      "['Segment_ID', 't0', 't1', 't2', 't3', 't4', 't5', 't6', 't7', 't8', 't9', 't10', 't11', 't12', 't13', 't14', 't15', 't16', 't17', 't18', 't19', 't20', 't21', 't22', 't23', 't24', 't25', 't26', 't27', 't28', 't29', 't30', 't31', 't32', 't33', 't34', 't35', 't36', 't37', 't38', 't39', 't40', 't41', 't42', 't43', 't44', 't45', 't46', 't47', 't48', 't49', 't50', 't51', 't52', 't53', 't54', 't55', 't56', 't57', 't58', 't59', 't60', 't61', 't62', 't63', 't64', 't65', 't66', 't67', 't68', 't69', 't70', 't71', 't72', 't73', 't74', 't75', 't76', 't77', 't78', 't79', 't80', 't81', 't82', 't83', 't84', 't85', 't86', 't87', 't88', 't89', 't90', 't91', 't92', 't93', 't94', 't95', 't96', 't97', 't98', 't99', 't100', 't101', 't102', 't103', 't104', 't105', 't106', 't107', 't108', 't109', 't110', 't111', 't112', 't113', 't114', 't115', 't116', 't117', 't118', 't119', 't120', 't121', 't122', 't123', 't124', 't125', 't126', 't127', 't128', 't129', 't130', 't131', 't132', 't133', 't134', 't135', 't136', 't137', 't138', 't139', 't140', 't141', 't142', 't143', 't144', 't145', 't146', 't147', 't148', 't149', 't150', 't151', 't152', 't153', 't154', 't155', 't156', 't157', 't158', 't159', 't160', 't161', 't162', 't163', 't164', 't165', 't166', 't167', 't168', 't169', 't170', 't171', 't172', 't173', 't174', 't175', 't176', 't177', 't178', 't179', 't180', 't181', 't182', 't183', 't184', 't185', 't186', 't187', 't188', 't189', 't190', 't191', 't192', 't193', 't194', 't195', 't196', 't197', 't198', 't199', 't200', 't201', 't202', 't203', 't204', 't205', 't206', 't207', 't208', 't209', 't210', 't211', 't212', 't213', 't214', 't215', 't216', 't217', 't218', 't219', 't220', 't221', 't222', 't223', 't224', 't225', 't226', 't227', 't228', 't229', 't230', 't231', 't232', 't233', 't234', 't235', 't236', 't237', 't238', 't239', 't240', 't241', 't242', 't243', 't244', 't245', 't246', 't247', 't248', 't249', 't250', 't251', 't252', 't253', 't254', 't255', 't256', 't257', 't258', 't259', 't260', 't261', 't262', 't263', 't264', 't265', 't266', 't267', 't268', 't269', 't270', 't271', 't272', 't273', 't274', 't275', 't276', 't277', 't278', 't279', 't280', 't281', 't282', 't283', 't284', 't285', 't286', 't287', 't288', 't289', 't290', 't291', 't292', 't293', 't294', 't295', 't296', 't297', 't298', 't299', 't300', 't301', 't302', 't303', 't304', 't305', 't306', 't307', 't308', 't309', 't310', 't311', 't312', 't313', 't314', 't315', 't316', 't317', 't318', 't319', 't320', 't321', 't322', 't323', 't324', 't325', 't326', 't327', 't328', 't329', 't330', 't331', 't332', 't333', 't334', 't335', 't336', 't337', 't338', 't339', 't340', 't341', 't342', 't343', 't344', 't345', 't346', 't347', 't348', 't349', 't350', 't351', 't352', 't353', 't354', 't355', 't356', 't357', 't358', 't359', 't360', 't361', 't362', 't363', 't364', 't365', 't366', 't367', 't368', 't369', 't370', 't371', 't372', 't373', 't374', 't375', 't376', 't377', 't378', 't379', 't380', 't381', 't382', 't383', 't384', 't385', 't386', 't387', 't388', 't389', 't390', 't391', 't392', 't393', 't394', 't395', 't396', 't397', 't398', 't399', 't400', 't401', 't402', 't403', 't404', 't405', 't406', 't407', 't408', 't409', 't410', 't411', 't412', 't413', 't414', 't415', 't416', 't417', 't418', 't419', 't420', 't421', 't422', 't423', 't424', 't425', 't426', 't427', 't428', 't429', 't430', 't431', 't432', 't433', 't434', 't435', 't436', 't437', 't438', 't439', 't440', 't441', 't442', 't443', 't444', 't445', 't446', 't447', 't448', 't449', 't450', 't451', 't452', 't453', 't454', 't455', 't456', 't457', 't458', 't459', 't460', 't461', 't462', 't463', 't464', 't465', 't466', 't467', 't468', 't469', 't470', 't471', 't472', 't473', 't474', 't475', 't476', 't477', 't478', 't479', 't480', 't481', 't482', 't483', 't484', 't485', 't486', 't487', 't488', 't489', 't490', 't491', 't492', 't493', 't494', 't495', 't496', 't497', 't498', 't499', 'Defect_Label']\n"
     ]
    }
   ],
   "source": [
    "print(temporal_df.columns.tolist())\n"
   ]
  },
  {
   "cell_type": "code",
   "execution_count": 3,
   "id": "6eaa3169",
   "metadata": {},
   "outputs": [],
   "source": [
    "# === Encode labels ===\n",
    "label_encoder = LabelEncoder()\n",
    "temporal_df['Label_Encoded'] = label_encoder.fit_transform(temporal_df['Defect_Label'])\n",
    "\n",
    "# Reshape temporal data: 500 = 100 timesteps × 5 features\n",
    "TIME_STEPS = 100\n",
    "NUM_FEATURES = 5\n",
    "temporal_cols = [f't{i}' for i in range(500)]\n",
    "temporal_values = temporal_df[temporal_cols].values[:1000]  # take only 1000 segments\n",
    "temporal_reshaped = temporal_values.reshape(-1, TIME_STEPS, NUM_FEATURES)"
   ]
  },
  {
   "cell_type": "code",
   "execution_count": 4,
   "id": "59a308da",
   "metadata": {},
   "outputs": [],
   "source": [
    "# Normalize spatial features: ['Thickness_mm', 'Temperature_C']\n",
    "spatial_features_df = spatial_df[['Segment_ID', 'Thickness_mm', 'Temperature_C']].copy()\n",
    "scaler = StandardScaler()\n",
    "spatial_features_df[['Thickness_mm', 'Temperature_C']] = scaler.fit_transform(\n",
    "    spatial_features_df[['Thickness_mm', 'Temperature_C']]\n",
    ")"
   ]
  },
  {
   "cell_type": "code",
   "execution_count": 5,
   "id": "0983cc8d",
   "metadata": {},
   "outputs": [],
   "source": [
    "# Merge spatial features into temporal data\n",
    "merged_spatial = temporal_df[['Segment_ID']].merge(spatial_features_df, on='Segment_ID', how='left')\n",
    "spatial_features = merged_spatial[['Thickness_mm', 'Temperature_C']].values\n"
   ]
  },
  {
   "cell_type": "code",
   "execution_count": 6,
   "id": "f03990dc",
   "metadata": {},
   "outputs": [],
   "source": [
    "# Extract encoded labels\n",
    "labels = temporal_df['Label_Encoded'].values\n",
    "\n",
    "# === Train-test split ===\n",
    "X_temp_train, X_temp_test, X_spat_train, X_spat_test, y_train, y_test = train_test_split(\n",
    "    temporal_reshaped, spatial_features, labels, test_size=0.2, stratify=labels, random_state=42\n",
    ")"
   ]
  },
  {
   "cell_type": "code",
   "execution_count": 7,
   "id": "2c556699",
   "metadata": {},
   "outputs": [],
   "source": [
    "# === Define Dual-Branch Model ===\n",
    "temporal_input = Input(shape=(TIME_STEPS, NUM_FEATURES), name='Temporal_Input')\n",
    "x1 = LSTM(64, return_sequences=False)(temporal_input)\n",
    "x1 = Dropout(0.3)(x1)\n",
    "\n",
    "spatial_input = Input(shape=(spatial_features.shape[1],), name='Spatial_Input')\n",
    "x2 = Dense(32, activation='relu')(spatial_input)\n",
    "x2 = Dropout(0.3)(x2)"
   ]
  },
  {
   "cell_type": "code",
   "execution_count": 8,
   "id": "ee3da71d",
   "metadata": {},
   "outputs": [],
   "source": [
    "combined = Concatenate()([x1, x2])\n",
    "x = Dense(32, activation='relu')(combined)\n",
    "output = Dense(len(np.unique(labels)), activation='softmax')(x)\n",
    "\n",
    "model = Model(inputs=[temporal_input, spatial_input], outputs=output)\n",
    "model.compile(optimizer='adam', loss='sparse_categorical_crossentropy', metrics=['accuracy'])"
   ]
  },
  {
   "cell_type": "code",
   "execution_count": 10,
   "id": "31261e21",
   "metadata": {},
   "outputs": [
    {
     "name": "stdout",
     "output_type": "stream",
     "text": [
      "Epoch 1/20\n",
      "50/50 - 0s - 9ms/step - accuracy: 0.7575 - loss: 0.3529 - val_accuracy: 0.7200 - val_loss: 0.3514\n",
      "Epoch 2/20\n",
      "50/50 - 0s - 9ms/step - accuracy: 0.7525 - loss: 0.3555 - val_accuracy: 0.7150 - val_loss: 0.3528\n",
      "Epoch 3/20\n",
      "50/50 - 0s - 9ms/step - accuracy: 0.7600 - loss: 0.3550 - val_accuracy: 0.7600 - val_loss: 0.3525\n",
      "Epoch 4/20\n",
      "50/50 - 0s - 9ms/step - accuracy: 0.7225 - loss: 0.3613 - val_accuracy: 0.7550 - val_loss: 0.3521\n",
      "Epoch 5/20\n",
      "50/50 - 0s - 9ms/step - accuracy: 0.7487 - loss: 0.3528 - val_accuracy: 0.7400 - val_loss: 0.3514\n",
      "Epoch 6/20\n",
      "50/50 - 0s - 9ms/step - accuracy: 0.7513 - loss: 0.3559 - val_accuracy: 0.7250 - val_loss: 0.3511\n",
      "Epoch 7/20\n",
      "50/50 - 0s - 9ms/step - accuracy: 0.7588 - loss: 0.3542 - val_accuracy: 0.7300 - val_loss: 0.3510\n",
      "Epoch 8/20\n",
      "50/50 - 0s - 9ms/step - accuracy: 0.7563 - loss: 0.3531 - val_accuracy: 0.7500 - val_loss: 0.3547\n",
      "Epoch 9/20\n",
      "50/50 - 0s - 9ms/step - accuracy: 0.7613 - loss: 0.3504 - val_accuracy: 0.7450 - val_loss: 0.3567\n",
      "Epoch 10/20\n",
      "50/50 - 0s - 9ms/step - accuracy: 0.7775 - loss: 0.3516 - val_accuracy: 0.7350 - val_loss: 0.3531\n",
      "Epoch 11/20\n",
      "50/50 - 0s - 9ms/step - accuracy: 0.7638 - loss: 0.3518 - val_accuracy: 0.7350 - val_loss: 0.3522\n",
      "Epoch 12/20\n",
      "50/50 - 0s - 9ms/step - accuracy: 0.7638 - loss: 0.3492 - val_accuracy: 0.7400 - val_loss: 0.3540\n",
      "Epoch 13/20\n",
      "50/50 - 0s - 9ms/step - accuracy: 0.7575 - loss: 0.3493 - val_accuracy: 0.7350 - val_loss: 0.3526\n",
      "Epoch 14/20\n",
      "50/50 - 0s - 8ms/step - accuracy: 0.7513 - loss: 0.3517 - val_accuracy: 0.7650 - val_loss: 0.3538\n",
      "Epoch 15/20\n",
      "50/50 - 0s - 9ms/step - accuracy: 0.7588 - loss: 0.3576 - val_accuracy: 0.7300 - val_loss: 0.3519\n",
      "Epoch 16/20\n",
      "50/50 - 0s - 8ms/step - accuracy: 0.7487 - loss: 0.3522 - val_accuracy: 0.7500 - val_loss: 0.3521\n",
      "Epoch 17/20\n",
      "50/50 - 0s - 8ms/step - accuracy: 0.7550 - loss: 0.3529 - val_accuracy: 0.7350 - val_loss: 0.3519\n",
      "Epoch 18/20\n",
      "50/50 - 0s - 9ms/step - accuracy: 0.7850 - loss: 0.3471 - val_accuracy: 0.7650 - val_loss: 0.3525\n",
      "Epoch 19/20\n",
      "50/50 - 0s - 9ms/step - accuracy: 0.7450 - loss: 0.3511 - val_accuracy: 0.7500 - val_loss: 0.3520\n",
      "Epoch 20/20\n",
      "50/50 - 0s - 8ms/step - accuracy: 0.7513 - loss: 0.3531 - val_accuracy: 0.7550 - val_loss: 0.3523\n",
      "\n",
      "✅ Test Accuracy: 0.7550\n",
      "\u001b[1m7/7\u001b[0m \u001b[32m━━━━━━━━━━━━━━━━━━━━\u001b[0m\u001b[37m\u001b[0m \u001b[1m0s\u001b[0m 4ms/step \n",
      "\n",
      "Classification Report:\n",
      "              precision    recall  f1-score   support\n",
      "\n",
      "       Crack       1.00      1.00      1.00        46\n",
      "Delamination       0.50      0.65      0.57        49\n",
      "   No_Defect       0.53      0.37      0.44        51\n",
      "  Weld_Issue       1.00      1.00      1.00        54\n",
      "\n",
      "    accuracy                           0.76       200\n",
      "   macro avg       0.76      0.76      0.75       200\n",
      "weighted avg       0.76      0.76      0.75       200\n",
      "\n"
     ]
    }
   ],
   "source": [
    "from sklearn.metrics import classification_report\n",
    "\n",
    "# === Train ===\n",
    "model.fit(\n",
    "    [X_temp_train, X_spat_train], y_train,\n",
    "    validation_data=([X_temp_test, X_spat_test], y_test),\n",
    "    epochs=20, batch_size=16, verbose=2\n",
    ")\n",
    "\n",
    "# === Evaluate ===\n",
    "loss, accuracy = model.evaluate([X_temp_test, X_spat_test], y_test, verbose=0)\n",
    "print(f\"\\n✅ Test Accuracy: {accuracy:.4f}\")\n",
    "\n",
    "# === Classification Report ===\n",
    "y_pred = model.predict([X_temp_test, X_spat_test])\n",
    "y_pred_labels = np.argmax(y_pred, axis=1)\n",
    "print(\"\\nClassification Report:\")\n",
    "print(classification_report(y_test, y_pred_labels, target_names=label_encoder.classes_))"
   ]
  },
  {
   "cell_type": "code",
   "execution_count": null,
   "id": "d40b39b8",
   "metadata": {},
   "outputs": [],
   "source": []
  }
 ],
 "metadata": {
  "kernelspec": {
   "display_name": "Python 3",
   "language": "python",
   "name": "python3"
  },
  "language_info": {
   "codemirror_mode": {
    "name": "ipython",
    "version": 3
   },
   "file_extension": ".py",
   "mimetype": "text/x-python",
   "name": "python",
   "nbconvert_exporter": "python",
   "pygments_lexer": "ipython3",
   "version": "3.12.5"
  }
 },
 "nbformat": 4,
 "nbformat_minor": 5
}
