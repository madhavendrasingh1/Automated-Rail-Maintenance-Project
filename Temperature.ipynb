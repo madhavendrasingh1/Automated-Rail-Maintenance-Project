{
 "cells": [
  {
   "cell_type": "code",
   "execution_count": 1,
   "id": "cebda58c",
   "metadata": {},
   "outputs": [
    {
     "name": "stdout",
     "output_type": "stream",
     "text": [
      "✅ Data processed:\n",
      "Temporal shape: (800, 100, 3)\n",
      "Spatial shape: (800, 3)\n",
      "Labels shape: (800,)\n"
     ]
    }
   ],
   "source": [
    "import pandas as pd\n",
    "import numpy as np\n",
    "from sklearn.model_selection import train_test_split\n",
    "from sklearn.preprocessing import MinMaxScaler, LabelEncoder\n",
    "\n",
    "# Load CSVs\n",
    "temporal_df = pd.read_csv(\"temperature_temporal.csv\")\n",
    "spatial_df = pd.read_csv(\"temperature_spatial.csv\")\n",
    "\n",
    "# Merge on Segment_ID\n",
    "df = pd.merge(temporal_df, spatial_df, on=\"Segment_ID\")\n",
    "\n",
    "# Separate temporal features (t0 to t299) and reshape to (samples, time_steps, features)\n",
    "temporal_features = [col for col in df.columns if col.startswith(\"t\")]\n",
    "X_temporal = df[temporal_features].values.reshape(len(df), -1, 3)  # (samples, 100, 3)\n",
    "\n",
    "# Normalize temporal data (optional: per-feature MinMax)\n",
    "scaler_temp = MinMaxScaler()\n",
    "X_temporal = X_temporal.reshape(-1, 3)\n",
    "X_temporal = scaler_temp.fit_transform(X_temporal)\n",
    "X_temporal = X_temporal.reshape(len(df), -1, 3)\n",
    "\n",
    "# Spatial features (Distance, Elevation, Install_Year)\n",
    "X_spatial = df[['Distance', 'Elevation', 'Install_Year']].values\n",
    "scaler_spatial = MinMaxScaler()\n",
    "X_spatial = scaler_spatial.fit_transform(X_spatial)\n",
    "\n",
    "# Encode labels\n",
    "label_encoder = LabelEncoder()\n",
    "y = label_encoder.fit_transform(df['Defect_Label'])\n",
    "\n",
    "# Train-test split\n",
    "X_train_temp, X_test_temp, X_train_spatial, X_test_spatial, y_train, y_test = train_test_split(\n",
    "    X_temporal, X_spatial, y, test_size=0.2, random_state=42, stratify=y\n",
    ")\n",
    "\n",
    "print(\"✅ Data processed:\")\n",
    "print(f\"Temporal shape: {X_train_temp.shape}\")\n",
    "print(f\"Spatial shape: {X_train_spatial.shape}\")\n",
    "print(f\"Labels shape: {y_train.shape}\")\n"
   ]
  },
  {
   "cell_type": "code",
   "execution_count": 3,
   "id": "73425f06",
   "metadata": {},
   "outputs": [
    {
     "name": "stdout",
     "output_type": "stream",
     "text": [
      "Epoch 1/20\n",
      "50/50 - 1s - 30ms/step - accuracy: 0.5725 - loss: 1.1757 - val_accuracy: 0.5750 - val_loss: 1.1296\n",
      "Epoch 2/20\n",
      "50/50 - 0s - 9ms/step - accuracy: 0.5775 - loss: 1.1330 - val_accuracy: 0.5750 - val_loss: 1.1275\n",
      "Epoch 3/20\n",
      "50/50 - 0s - 9ms/step - accuracy: 0.5775 - loss: 1.1312 - val_accuracy: 0.5750 - val_loss: 1.1249\n",
      "Epoch 4/20\n",
      "50/50 - 0s - 9ms/step - accuracy: 0.5775 - loss: 1.1288 - val_accuracy: 0.5750 - val_loss: 1.1272\n",
      "Epoch 5/20\n",
      "50/50 - 0s - 9ms/step - accuracy: 0.5775 - loss: 1.1266 - val_accuracy: 0.5750 - val_loss: 1.1253\n",
      "Epoch 6/20\n",
      "50/50 - 0s - 9ms/step - accuracy: 0.5775 - loss: 1.1240 - val_accuracy: 0.5750 - val_loss: 1.1263\n",
      "Epoch 7/20\n",
      "50/50 - 0s - 9ms/step - accuracy: 0.5775 - loss: 1.1187 - val_accuracy: 0.5750 - val_loss: 1.1272\n",
      "Epoch 8/20\n",
      "50/50 - 0s - 9ms/step - accuracy: 0.5775 - loss: 1.1311 - val_accuracy: 0.5750 - val_loss: 1.1286\n",
      "Epoch 9/20\n",
      "50/50 - 0s - 9ms/step - accuracy: 0.5775 - loss: 1.1233 - val_accuracy: 0.5750 - val_loss: 1.1242\n",
      "Epoch 10/20\n",
      "50/50 - 0s - 9ms/step - accuracy: 0.5775 - loss: 1.1206 - val_accuracy: 0.5750 - val_loss: 1.1228\n",
      "Epoch 11/20\n",
      "50/50 - 0s - 9ms/step - accuracy: 0.5775 - loss: 1.1167 - val_accuracy: 0.5750 - val_loss: 1.1253\n",
      "Epoch 12/20\n",
      "50/50 - 0s - 9ms/step - accuracy: 0.5775 - loss: 1.1239 - val_accuracy: 0.5750 - val_loss: 1.1234\n",
      "Epoch 13/20\n",
      "50/50 - 0s - 9ms/step - accuracy: 0.5775 - loss: 1.1154 - val_accuracy: 0.5750 - val_loss: 1.1257\n",
      "Epoch 14/20\n",
      "50/50 - 0s - 9ms/step - accuracy: 0.5775 - loss: 1.1150 - val_accuracy: 0.5750 - val_loss: 1.1228\n",
      "Epoch 15/20\n",
      "50/50 - 1s - 10ms/step - accuracy: 0.5775 - loss: 1.1273 - val_accuracy: 0.5750 - val_loss: 1.1243\n",
      "Epoch 16/20\n",
      "50/50 - 0s - 9ms/step - accuracy: 0.5775 - loss: 1.1176 - val_accuracy: 0.5750 - val_loss: 1.1246\n",
      "Epoch 17/20\n",
      "50/50 - 0s - 9ms/step - accuracy: 0.5775 - loss: 1.1174 - val_accuracy: 0.5750 - val_loss: 1.1249\n",
      "Epoch 18/20\n",
      "50/50 - 0s - 9ms/step - accuracy: 0.5775 - loss: 1.1172 - val_accuracy: 0.5750 - val_loss: 1.1237\n",
      "Epoch 19/20\n",
      "50/50 - 0s - 9ms/step - accuracy: 0.5775 - loss: 1.1192 - val_accuracy: 0.5750 - val_loss: 1.1320\n",
      "Epoch 20/20\n",
      "50/50 - 0s - 9ms/step - accuracy: 0.5775 - loss: 1.1176 - val_accuracy: 0.5750 - val_loss: 1.1252\n",
      "\n",
      "✅ Test Accuracy: 0.5750\n",
      "\u001b[1m7/7\u001b[0m \u001b[32m━━━━━━━━━━━━━━━━━━━━\u001b[0m\u001b[37m\u001b[0m \u001b[1m0s\u001b[0m 16ms/step\n",
      "\n",
      "📊 Classification Report:\n",
      "                   precision    recall  f1-score   support\n",
      "\n",
      "        No_Defect       0.57      1.00      0.73       115\n",
      "         Overheat       0.00      0.00      0.00        44\n",
      "     Sensor_Fault       0.00      0.00      0.00        20\n",
      "Thermal_Expansion       0.00      0.00      0.00        21\n",
      "\n",
      "         accuracy                           0.57       200\n",
      "        macro avg       0.14      0.25      0.18       200\n",
      "     weighted avg       0.33      0.57      0.42       200\n",
      "\n"
     ]
    },
    {
     "name": "stderr",
     "output_type": "stream",
     "text": [
      "c:\\Users\\Haard\\AppData\\Local\\Programs\\Python\\Python312\\Lib\\site-packages\\sklearn\\metrics\\_classification.py:1531: UndefinedMetricWarning: Precision is ill-defined and being set to 0.0 in labels with no predicted samples. Use `zero_division` parameter to control this behavior.\n",
      "  _warn_prf(average, modifier, f\"{metric.capitalize()} is\", len(result))\n",
      "c:\\Users\\Haard\\AppData\\Local\\Programs\\Python\\Python312\\Lib\\site-packages\\sklearn\\metrics\\_classification.py:1531: UndefinedMetricWarning: Precision is ill-defined and being set to 0.0 in labels with no predicted samples. Use `zero_division` parameter to control this behavior.\n",
      "  _warn_prf(average, modifier, f\"{metric.capitalize()} is\", len(result))\n",
      "c:\\Users\\Haard\\AppData\\Local\\Programs\\Python\\Python312\\Lib\\site-packages\\sklearn\\metrics\\_classification.py:1531: UndefinedMetricWarning: Precision is ill-defined and being set to 0.0 in labels with no predicted samples. Use `zero_division` parameter to control this behavior.\n",
      "  _warn_prf(average, modifier, f\"{metric.capitalize()} is\", len(result))\n"
     ]
    },
    {
     "data": {
      "text/html": [
       "<pre style=\"white-space:pre;overflow-x:auto;line-height:normal;font-family:Menlo,'DejaVu Sans Mono',consolas,'Courier New',monospace\"><span style=\"font-weight: bold\">Model: \"functional_1\"</span>\n",
       "</pre>\n"
      ],
      "text/plain": [
       "\u001b[1mModel: \"functional_1\"\u001b[0m\n"
      ]
     },
     "metadata": {},
     "output_type": "display_data"
    },
    {
     "data": {
      "text/html": [
       "<pre style=\"white-space:pre;overflow-x:auto;line-height:normal;font-family:Menlo,'DejaVu Sans Mono',consolas,'Courier New',monospace\">┏━━━━━━━━━━━━━━━━━━━━━┳━━━━━━━━━━━━━━━━━━━┳━━━━━━━━━━━━┳━━━━━━━━━━━━━━━━━━━┓\n",
       "┃<span style=\"font-weight: bold\"> Layer (type)        </span>┃<span style=\"font-weight: bold\"> Output Shape      </span>┃<span style=\"font-weight: bold\">    Param # </span>┃<span style=\"font-weight: bold\"> Connected to      </span>┃\n",
       "┡━━━━━━━━━━━━━━━━━━━━━╇━━━━━━━━━━━━━━━━━━━╇━━━━━━━━━━━━╇━━━━━━━━━━━━━━━━━━━┩\n",
       "│ Temporal_Input      │ (<span style=\"color: #00d7ff; text-decoration-color: #00d7ff\">None</span>, <span style=\"color: #00af00; text-decoration-color: #00af00\">100</span>, <span style=\"color: #00af00; text-decoration-color: #00af00\">3</span>)    │          <span style=\"color: #00af00; text-decoration-color: #00af00\">0</span> │ -                 │\n",
       "│ (<span style=\"color: #0087ff; text-decoration-color: #0087ff\">InputLayer</span>)        │                   │            │                   │\n",
       "├─────────────────────┼───────────────────┼────────────┼───────────────────┤\n",
       "│ Spatial_Input       │ (<span style=\"color: #00d7ff; text-decoration-color: #00d7ff\">None</span>, <span style=\"color: #00af00; text-decoration-color: #00af00\">3</span>)         │          <span style=\"color: #00af00; text-decoration-color: #00af00\">0</span> │ -                 │\n",
       "│ (<span style=\"color: #0087ff; text-decoration-color: #0087ff\">InputLayer</span>)        │                   │            │                   │\n",
       "├─────────────────────┼───────────────────┼────────────┼───────────────────┤\n",
       "│ lstm_2 (<span style=\"color: #0087ff; text-decoration-color: #0087ff\">LSTM</span>)       │ (<span style=\"color: #00d7ff; text-decoration-color: #00d7ff\">None</span>, <span style=\"color: #00af00; text-decoration-color: #00af00\">64</span>)        │     <span style=\"color: #00af00; text-decoration-color: #00af00\">17,408</span> │ Temporal_Input[<span style=\"color: #00af00; text-decoration-color: #00af00\">0</span>… │\n",
       "├─────────────────────┼───────────────────┼────────────┼───────────────────┤\n",
       "│ dense_5 (<span style=\"color: #0087ff; text-decoration-color: #0087ff\">Dense</span>)     │ (<span style=\"color: #00d7ff; text-decoration-color: #00d7ff\">None</span>, <span style=\"color: #00af00; text-decoration-color: #00af00\">32</span>)        │        <span style=\"color: #00af00; text-decoration-color: #00af00\">128</span> │ Spatial_Input[<span style=\"color: #00af00; text-decoration-color: #00af00\">0</span>]… │\n",
       "├─────────────────────┼───────────────────┼────────────┼───────────────────┤\n",
       "│ dropout_5 (<span style=\"color: #0087ff; text-decoration-color: #0087ff\">Dropout</span>) │ (<span style=\"color: #00d7ff; text-decoration-color: #00d7ff\">None</span>, <span style=\"color: #00af00; text-decoration-color: #00af00\">64</span>)        │          <span style=\"color: #00af00; text-decoration-color: #00af00\">0</span> │ lstm_2[<span style=\"color: #00af00; text-decoration-color: #00af00\">0</span>][<span style=\"color: #00af00; text-decoration-color: #00af00\">0</span>]      │\n",
       "├─────────────────────┼───────────────────┼────────────┼───────────────────┤\n",
       "│ dropout_6 (<span style=\"color: #0087ff; text-decoration-color: #0087ff\">Dropout</span>) │ (<span style=\"color: #00d7ff; text-decoration-color: #00d7ff\">None</span>, <span style=\"color: #00af00; text-decoration-color: #00af00\">32</span>)        │          <span style=\"color: #00af00; text-decoration-color: #00af00\">0</span> │ dense_5[<span style=\"color: #00af00; text-decoration-color: #00af00\">0</span>][<span style=\"color: #00af00; text-decoration-color: #00af00\">0</span>]     │\n",
       "├─────────────────────┼───────────────────┼────────────┼───────────────────┤\n",
       "│ concatenate_1       │ (<span style=\"color: #00d7ff; text-decoration-color: #00d7ff\">None</span>, <span style=\"color: #00af00; text-decoration-color: #00af00\">96</span>)        │          <span style=\"color: #00af00; text-decoration-color: #00af00\">0</span> │ dropout_5[<span style=\"color: #00af00; text-decoration-color: #00af00\">0</span>][<span style=\"color: #00af00; text-decoration-color: #00af00\">0</span>],  │\n",
       "│ (<span style=\"color: #0087ff; text-decoration-color: #0087ff\">Concatenate</span>)       │                   │            │ dropout_6[<span style=\"color: #00af00; text-decoration-color: #00af00\">0</span>][<span style=\"color: #00af00; text-decoration-color: #00af00\">0</span>]   │\n",
       "├─────────────────────┼───────────────────┼────────────┼───────────────────┤\n",
       "│ dense_6 (<span style=\"color: #0087ff; text-decoration-color: #0087ff\">Dense</span>)     │ (<span style=\"color: #00d7ff; text-decoration-color: #00d7ff\">None</span>, <span style=\"color: #00af00; text-decoration-color: #00af00\">32</span>)        │      <span style=\"color: #00af00; text-decoration-color: #00af00\">3,104</span> │ concatenate_1[<span style=\"color: #00af00; text-decoration-color: #00af00\">0</span>]… │\n",
       "├─────────────────────┼───────────────────┼────────────┼───────────────────┤\n",
       "│ dense_7 (<span style=\"color: #0087ff; text-decoration-color: #0087ff\">Dense</span>)     │ (<span style=\"color: #00d7ff; text-decoration-color: #00d7ff\">None</span>, <span style=\"color: #00af00; text-decoration-color: #00af00\">4</span>)         │        <span style=\"color: #00af00; text-decoration-color: #00af00\">132</span> │ dense_6[<span style=\"color: #00af00; text-decoration-color: #00af00\">0</span>][<span style=\"color: #00af00; text-decoration-color: #00af00\">0</span>]     │\n",
       "└─────────────────────┴───────────────────┴────────────┴───────────────────┘\n",
       "</pre>\n"
      ],
      "text/plain": [
       "┏━━━━━━━━━━━━━━━━━━━━━┳━━━━━━━━━━━━━━━━━━━┳━━━━━━━━━━━━┳━━━━━━━━━━━━━━━━━━━┓\n",
       "┃\u001b[1m \u001b[0m\u001b[1mLayer (type)       \u001b[0m\u001b[1m \u001b[0m┃\u001b[1m \u001b[0m\u001b[1mOutput Shape     \u001b[0m\u001b[1m \u001b[0m┃\u001b[1m \u001b[0m\u001b[1m   Param #\u001b[0m\u001b[1m \u001b[0m┃\u001b[1m \u001b[0m\u001b[1mConnected to     \u001b[0m\u001b[1m \u001b[0m┃\n",
       "┡━━━━━━━━━━━━━━━━━━━━━╇━━━━━━━━━━━━━━━━━━━╇━━━━━━━━━━━━╇━━━━━━━━━━━━━━━━━━━┩\n",
       "│ Temporal_Input      │ (\u001b[38;5;45mNone\u001b[0m, \u001b[38;5;34m100\u001b[0m, \u001b[38;5;34m3\u001b[0m)    │          \u001b[38;5;34m0\u001b[0m │ -                 │\n",
       "│ (\u001b[38;5;33mInputLayer\u001b[0m)        │                   │            │                   │\n",
       "├─────────────────────┼───────────────────┼────────────┼───────────────────┤\n",
       "│ Spatial_Input       │ (\u001b[38;5;45mNone\u001b[0m, \u001b[38;5;34m3\u001b[0m)         │          \u001b[38;5;34m0\u001b[0m │ -                 │\n",
       "│ (\u001b[38;5;33mInputLayer\u001b[0m)        │                   │            │                   │\n",
       "├─────────────────────┼───────────────────┼────────────┼───────────────────┤\n",
       "│ lstm_2 (\u001b[38;5;33mLSTM\u001b[0m)       │ (\u001b[38;5;45mNone\u001b[0m, \u001b[38;5;34m64\u001b[0m)        │     \u001b[38;5;34m17,408\u001b[0m │ Temporal_Input[\u001b[38;5;34m0\u001b[0m… │\n",
       "├─────────────────────┼───────────────────┼────────────┼───────────────────┤\n",
       "│ dense_5 (\u001b[38;5;33mDense\u001b[0m)     │ (\u001b[38;5;45mNone\u001b[0m, \u001b[38;5;34m32\u001b[0m)        │        \u001b[38;5;34m128\u001b[0m │ Spatial_Input[\u001b[38;5;34m0\u001b[0m]… │\n",
       "├─────────────────────┼───────────────────┼────────────┼───────────────────┤\n",
       "│ dropout_5 (\u001b[38;5;33mDropout\u001b[0m) │ (\u001b[38;5;45mNone\u001b[0m, \u001b[38;5;34m64\u001b[0m)        │          \u001b[38;5;34m0\u001b[0m │ lstm_2[\u001b[38;5;34m0\u001b[0m][\u001b[38;5;34m0\u001b[0m]      │\n",
       "├─────────────────────┼───────────────────┼────────────┼───────────────────┤\n",
       "│ dropout_6 (\u001b[38;5;33mDropout\u001b[0m) │ (\u001b[38;5;45mNone\u001b[0m, \u001b[38;5;34m32\u001b[0m)        │          \u001b[38;5;34m0\u001b[0m │ dense_5[\u001b[38;5;34m0\u001b[0m][\u001b[38;5;34m0\u001b[0m]     │\n",
       "├─────────────────────┼───────────────────┼────────────┼───────────────────┤\n",
       "│ concatenate_1       │ (\u001b[38;5;45mNone\u001b[0m, \u001b[38;5;34m96\u001b[0m)        │          \u001b[38;5;34m0\u001b[0m │ dropout_5[\u001b[38;5;34m0\u001b[0m][\u001b[38;5;34m0\u001b[0m],  │\n",
       "│ (\u001b[38;5;33mConcatenate\u001b[0m)       │                   │            │ dropout_6[\u001b[38;5;34m0\u001b[0m][\u001b[38;5;34m0\u001b[0m]   │\n",
       "├─────────────────────┼───────────────────┼────────────┼───────────────────┤\n",
       "│ dense_6 (\u001b[38;5;33mDense\u001b[0m)     │ (\u001b[38;5;45mNone\u001b[0m, \u001b[38;5;34m32\u001b[0m)        │      \u001b[38;5;34m3,104\u001b[0m │ concatenate_1[\u001b[38;5;34m0\u001b[0m]… │\n",
       "├─────────────────────┼───────────────────┼────────────┼───────────────────┤\n",
       "│ dense_7 (\u001b[38;5;33mDense\u001b[0m)     │ (\u001b[38;5;45mNone\u001b[0m, \u001b[38;5;34m4\u001b[0m)         │        \u001b[38;5;34m132\u001b[0m │ dense_6[\u001b[38;5;34m0\u001b[0m][\u001b[38;5;34m0\u001b[0m]     │\n",
       "└─────────────────────┴───────────────────┴────────────┴───────────────────┘\n"
      ]
     },
     "metadata": {},
     "output_type": "display_data"
    },
    {
     "data": {
      "text/html": [
       "<pre style=\"white-space:pre;overflow-x:auto;line-height:normal;font-family:Menlo,'DejaVu Sans Mono',consolas,'Courier New',monospace\"><span style=\"font-weight: bold\"> Total params: </span><span style=\"color: #00af00; text-decoration-color: #00af00\">62,318</span> (243.43 KB)\n",
       "</pre>\n"
      ],
      "text/plain": [
       "\u001b[1m Total params: \u001b[0m\u001b[38;5;34m62,318\u001b[0m (243.43 KB)\n"
      ]
     },
     "metadata": {},
     "output_type": "display_data"
    },
    {
     "data": {
      "text/html": [
       "<pre style=\"white-space:pre;overflow-x:auto;line-height:normal;font-family:Menlo,'DejaVu Sans Mono',consolas,'Courier New',monospace\"><span style=\"font-weight: bold\"> Trainable params: </span><span style=\"color: #00af00; text-decoration-color: #00af00\">20,772</span> (81.14 KB)\n",
       "</pre>\n"
      ],
      "text/plain": [
       "\u001b[1m Trainable params: \u001b[0m\u001b[38;5;34m20,772\u001b[0m (81.14 KB)\n"
      ]
     },
     "metadata": {},
     "output_type": "display_data"
    },
    {
     "data": {
      "text/html": [
       "<pre style=\"white-space:pre;overflow-x:auto;line-height:normal;font-family:Menlo,'DejaVu Sans Mono',consolas,'Courier New',monospace\"><span style=\"font-weight: bold\"> Non-trainable params: </span><span style=\"color: #00af00; text-decoration-color: #00af00\">0</span> (0.00 B)\n",
       "</pre>\n"
      ],
      "text/plain": [
       "\u001b[1m Non-trainable params: \u001b[0m\u001b[38;5;34m0\u001b[0m (0.00 B)\n"
      ]
     },
     "metadata": {},
     "output_type": "display_data"
    },
    {
     "data": {
      "text/html": [
       "<pre style=\"white-space:pre;overflow-x:auto;line-height:normal;font-family:Menlo,'DejaVu Sans Mono',consolas,'Courier New',monospace\"><span style=\"font-weight: bold\"> Optimizer params: </span><span style=\"color: #00af00; text-decoration-color: #00af00\">41,546</span> (162.29 KB)\n",
       "</pre>\n"
      ],
      "text/plain": [
       "\u001b[1m Optimizer params: \u001b[0m\u001b[38;5;34m41,546\u001b[0m (162.29 KB)\n"
      ]
     },
     "metadata": {},
     "output_type": "display_data"
    }
   ],
   "source": [
    "import tensorflow as tf\n",
    "from tensorflow.keras.models import Model\n",
    "from tensorflow.keras.layers import Input, LSTM, Dense, Dropout, Concatenate\n",
    "from sklearn.metrics import classification_report\n",
    "import numpy as np\n",
    "\n",
    "# --- Reuse preprocessed data from previous step ---\n",
    "# Assumes: X_train_temp, X_test_temp, X_train_spatial, X_test_spatial, y_train, y_test, label_encoder\n",
    "\n",
    "# === Model Definition ===\n",
    "\n",
    "# Temporal Branch\n",
    "input_temp = Input(shape=(100, 3), name='Temporal_Input')\n",
    "x1 = LSTM(64, return_sequences=False)(input_temp)\n",
    "x1 = Dropout(0.3)(x1)\n",
    "\n",
    "# Spatial Branch\n",
    "input_spatial = Input(shape=(3,), name='Spatial_Input')\n",
    "x2 = Dense(32, activation='relu')(input_spatial)\n",
    "x2 = Dropout(0.3)(x2)\n",
    "\n",
    "# Combine both branches\n",
    "combined = Concatenate()([x1, x2])\n",
    "x = Dense(32, activation='relu')(combined)\n",
    "output = Dense(len(np.unique(y_train)), activation='softmax')(x)\n",
    "\n",
    "model = Model(inputs=[input_temp, input_spatial], outputs=output)\n",
    "\n",
    "# === Compile & Train ===\n",
    "model.compile(optimizer='adam', loss='sparse_categorical_crossentropy', metrics=['accuracy'])\n",
    "\n",
    "history = model.fit(\n",
    "    [X_train_temp, X_train_spatial], y_train,\n",
    "    validation_data=([X_test_temp, X_test_spatial], y_test),\n",
    "    epochs=20, batch_size=16, verbose=2\n",
    ")\n",
    "\n",
    "# === Evaluate ===\n",
    "loss, acc = model.evaluate([X_test_temp, X_test_spatial], y_test, verbose=0)\n",
    "print(f\"\\n✅ Test Accuracy: {acc:.4f}\")\n",
    "\n",
    "# === Classification Report ===\n",
    "y_pred = model.predict([X_test_temp, X_test_spatial])\n",
    "y_pred_labels = np.argmax(y_pred, axis=1)\n",
    "\n",
    "print(\"\\n📊 Classification Report:\")\n",
    "print(classification_report(y_test, y_pred_labels, target_names=label_encoder.classes_))\n",
    "\n",
    "# === Model Summary ===\n",
    "model.summary()\n"
   ]
  },
  {
   "cell_type": "code",
   "execution_count": null,
   "id": "a78ed199",
   "metadata": {},
   "outputs": [],
   "source": []
  }
 ],
 "metadata": {
  "kernelspec": {
   "display_name": "Python 3",
   "language": "python",
   "name": "python3"
  },
  "language_info": {
   "codemirror_mode": {
    "name": "ipython",
    "version": 3
   },
   "file_extension": ".py",
   "mimetype": "text/x-python",
   "name": "python",
   "nbconvert_exporter": "python",
   "pygments_lexer": "ipython3",
   "version": "3.12.5"
  }
 },
 "nbformat": 4,
 "nbformat_minor": 5
}
