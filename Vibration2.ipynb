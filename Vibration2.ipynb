{
 "cells": [
  {
   "cell_type": "code",
   "execution_count": 1,
   "id": "78d2536b",
   "metadata": {},
   "outputs": [],
   "source": [
    "import pandas as pd\n",
    "import numpy as np\n",
    "from sklearn.model_selection import train_test_split\n",
    "from sklearn.preprocessing import LabelEncoder, StandardScaler\n",
    "import tensorflow as tf\n",
    "from tensorflow.keras.models import Model\n",
    "from tensorflow.keras.layers import Input, LSTM, Dense, Dropout, Concatenate\n",
    "\n",
    "# === Load synthetic data ===\n",
    "temporal_df = pd.read_csv('temporal_features.csv')\n",
    "spatial_df = pd.read_csv('spatial_features.csv')"
   ]
  },
  {
   "cell_type": "code",
   "execution_count": 2,
   "id": "28da5410",
   "metadata": {},
   "outputs": [],
   "source": [
    "# === Encode labels ===\n",
    "label_encoder = LabelEncoder()\n",
    "temporal_df['Label_Encoded'] = label_encoder.fit_transform(temporal_df['Defect_Label'])\n",
    "\n",
    "# Reshape temporal data: 500 = 100 timesteps × 5 features\n",
    "TIME_STEPS = 100\n",
    "NUM_FEATURES = 5\n",
    "# Sort time columns to ensure correct order\n",
    "time_columns = sorted([col for col in temporal_df.columns if col.startswith('t')])[:500]\n",
    "temporal_features = temporal_df[time_columns].values\n",
    "temporal_reshaped = temporal_features.reshape(-1, TIME_STEPS, NUM_FEATURES)\n"
   ]
  },
  {
   "cell_type": "code",
   "execution_count": 3,
   "id": "91e716ca",
   "metadata": {},
   "outputs": [],
   "source": [
    "# Normalize spatial features\n",
    "spatial_features_df = spatial_df[['Segment_ID', 'Distance', 'Elevation', 'Track_Age']].copy()\n",
    "scaler = StandardScaler()\n",
    "spatial_features_df[['Distance', 'Elevation', 'Track_Age']] = scaler.fit_transform(spatial_features_df[['Distance', 'Elevation', 'Track_Age']])\n",
    "\n",
    "# Merge spatial features using Segment_ID\n",
    "merged_spatial = temporal_df[['Segment_ID']].merge(spatial_features_df, on='Segment_ID', how='left')\n",
    "spatial_features = merged_spatial[['Distance', 'Elevation', 'Track_Age']].values\n",
    "\n",
    "# Extract labels\n",
    "labels = temporal_df['Label_Encoded'].values\n"
   ]
  },
  {
   "cell_type": "code",
   "execution_count": 4,
   "id": "71d65a69",
   "metadata": {},
   "outputs": [],
   "source": [
    "# Train-test split\n",
    "X_temp_train, X_temp_test, X_spat_train, X_spat_test, y_train, y_test = train_test_split(\n",
    "    temporal_reshaped, spatial_features, labels, test_size=0.2, stratify=labels, random_state=42\n",
    ")"
   ]
  },
  {
   "cell_type": "code",
   "execution_count": 5,
   "id": "a8209f3a",
   "metadata": {},
   "outputs": [],
   "source": [
    "# === Define Dual-Branch Model ===\n",
    "temporal_input = Input(shape=(TIME_STEPS, NUM_FEATURES), name='Temporal_Input')\n",
    "x1 = LSTM(64, return_sequences=False)(temporal_input)\n",
    "x1 = Dropout(0.3)(x1)\n",
    "\n",
    "spatial_input = Input(shape=(3,), name='Spatial_Input')\n",
    "x2 = Dense(32, activation='relu')(spatial_input)\n",
    "x2 = Dropout(0.3)(x2)\n"
   ]
  },
  {
   "cell_type": "code",
   "execution_count": 6,
   "id": "13c730bb",
   "metadata": {},
   "outputs": [],
   "source": [
    "combined = Concatenate()([x1, x2])\n",
    "x = Dense(32, activation='relu')(combined)\n",
    "output = Dense(len(np.unique(labels)), activation='softmax')(x)\n",
    "\n",
    "model = Model(inputs=[temporal_input, spatial_input], outputs=output)\n",
    "model.compile(optimizer='adam', loss='sparse_categorical_crossentropy', metrics=['accuracy'])\n"
   ]
  },
  {
   "cell_type": "code",
   "execution_count": 7,
   "id": "49f3afd4",
   "metadata": {},
   "outputs": [
    {
     "name": "stdout",
     "output_type": "stream",
     "text": [
      "Epoch 1/20\n",
      "150/150 - 2s - 14ms/step - accuracy: 0.3329 - loss: 1.3146 - val_accuracy: 0.4167 - val_loss: 1.2303\n",
      "Epoch 2/20\n",
      "150/150 - 1s - 9ms/step - accuracy: 0.4358 - loss: 1.1822 - val_accuracy: 0.5500 - val_loss: 1.1085\n",
      "Epoch 3/20\n",
      "150/150 - 1s - 8ms/step - accuracy: 0.4896 - loss: 1.0934 - val_accuracy: 0.5267 - val_loss: 1.0171\n",
      "Epoch 4/20\n",
      "150/150 - 1s - 8ms/step - accuracy: 0.5412 - loss: 1.0157 - val_accuracy: 0.6250 - val_loss: 0.9396\n",
      "Epoch 5/20\n",
      "150/150 - 1s - 8ms/step - accuracy: 0.5529 - loss: 0.9722 - val_accuracy: 0.6483 - val_loss: 0.8886\n",
      "Epoch 6/20\n",
      "150/150 - 9s - 57ms/step - accuracy: 0.5883 - loss: 0.9253 - val_accuracy: 0.6500 - val_loss: 0.8408\n",
      "Epoch 7/20\n",
      "150/150 - 3s - 17ms/step - accuracy: 0.6012 - loss: 0.8947 - val_accuracy: 0.7150 - val_loss: 0.8024\n",
      "Epoch 8/20\n",
      "150/150 - 1s - 8ms/step - accuracy: 0.6292 - loss: 0.8606 - val_accuracy: 0.6983 - val_loss: 0.7739\n",
      "Epoch 9/20\n",
      "150/150 - 1s - 8ms/step - accuracy: 0.6400 - loss: 0.8210 - val_accuracy: 0.7050 - val_loss: 0.7473\n",
      "Epoch 10/20\n",
      "150/150 - 1s - 8ms/step - accuracy: 0.6483 - loss: 0.8074 - val_accuracy: 0.6900 - val_loss: 0.7296\n",
      "Epoch 11/20\n",
      "150/150 - 1s - 8ms/step - accuracy: 0.6533 - loss: 0.7899 - val_accuracy: 0.7167 - val_loss: 0.7175\n",
      "Epoch 12/20\n",
      "150/150 - 1s - 8ms/step - accuracy: 0.6812 - loss: 0.7562 - val_accuracy: 0.7267 - val_loss: 0.6945\n",
      "Epoch 13/20\n",
      "150/150 - 1s - 8ms/step - accuracy: 0.6946 - loss: 0.7251 - val_accuracy: 0.7300 - val_loss: 0.6724\n",
      "Epoch 14/20\n",
      "150/150 - 1s - 8ms/step - accuracy: 0.7133 - loss: 0.6994 - val_accuracy: 0.7233 - val_loss: 0.6400\n",
      "Epoch 15/20\n",
      "150/150 - 1s - 7ms/step - accuracy: 0.7129 - loss: 0.6842 - val_accuracy: 0.7317 - val_loss: 0.6237\n",
      "Epoch 16/20\n",
      "150/150 - 1s - 8ms/step - accuracy: 0.7308 - loss: 0.6598 - val_accuracy: 0.7433 - val_loss: 0.6063\n",
      "Epoch 17/20\n",
      "150/150 - 1s - 8ms/step - accuracy: 0.7471 - loss: 0.6351 - val_accuracy: 0.7333 - val_loss: 0.6155\n",
      "Epoch 18/20\n",
      "150/150 - 1s - 8ms/step - accuracy: 0.7371 - loss: 0.6196 - val_accuracy: 0.7533 - val_loss: 0.5906\n",
      "Epoch 19/20\n",
      "150/150 - 1s - 8ms/step - accuracy: 0.7633 - loss: 0.5874 - val_accuracy: 0.7383 - val_loss: 0.5834\n",
      "Epoch 20/20\n",
      "150/150 - 1s - 8ms/step - accuracy: 0.7758 - loss: 0.5685 - val_accuracy: 0.7533 - val_loss: 0.5660\n"
     ]
    },
    {
     "data": {
      "text/html": [
       "<pre style=\"white-space:pre;overflow-x:auto;line-height:normal;font-family:Menlo,'DejaVu Sans Mono',consolas,'Courier New',monospace\"><span style=\"font-weight: bold\">Model: \"functional\"</span>\n",
       "</pre>\n"
      ],
      "text/plain": [
       "\u001b[1mModel: \"functional\"\u001b[0m\n"
      ]
     },
     "metadata": {},
     "output_type": "display_data"
    },
    {
     "data": {
      "text/html": [
       "<pre style=\"white-space:pre;overflow-x:auto;line-height:normal;font-family:Menlo,'DejaVu Sans Mono',consolas,'Courier New',monospace\">┏━━━━━━━━━━━━━━━━━━━━━┳━━━━━━━━━━━━━━━━━━━┳━━━━━━━━━━━━┳━━━━━━━━━━━━━━━━━━━┓\n",
       "┃<span style=\"font-weight: bold\"> Layer (type)        </span>┃<span style=\"font-weight: bold\"> Output Shape      </span>┃<span style=\"font-weight: bold\">    Param # </span>┃<span style=\"font-weight: bold\"> Connected to      </span>┃\n",
       "┡━━━━━━━━━━━━━━━━━━━━━╇━━━━━━━━━━━━━━━━━━━╇━━━━━━━━━━━━╇━━━━━━━━━━━━━━━━━━━┩\n",
       "│ Temporal_Input      │ (<span style=\"color: #00d7ff; text-decoration-color: #00d7ff\">None</span>, <span style=\"color: #00af00; text-decoration-color: #00af00\">100</span>, <span style=\"color: #00af00; text-decoration-color: #00af00\">5</span>)    │          <span style=\"color: #00af00; text-decoration-color: #00af00\">0</span> │ -                 │\n",
       "│ (<span style=\"color: #0087ff; text-decoration-color: #0087ff\">InputLayer</span>)        │                   │            │                   │\n",
       "├─────────────────────┼───────────────────┼────────────┼───────────────────┤\n",
       "│ Spatial_Input       │ (<span style=\"color: #00d7ff; text-decoration-color: #00d7ff\">None</span>, <span style=\"color: #00af00; text-decoration-color: #00af00\">3</span>)         │          <span style=\"color: #00af00; text-decoration-color: #00af00\">0</span> │ -                 │\n",
       "│ (<span style=\"color: #0087ff; text-decoration-color: #0087ff\">InputLayer</span>)        │                   │            │                   │\n",
       "├─────────────────────┼───────────────────┼────────────┼───────────────────┤\n",
       "│ lstm (<span style=\"color: #0087ff; text-decoration-color: #0087ff\">LSTM</span>)         │ (<span style=\"color: #00d7ff; text-decoration-color: #00d7ff\">None</span>, <span style=\"color: #00af00; text-decoration-color: #00af00\">64</span>)        │     <span style=\"color: #00af00; text-decoration-color: #00af00\">17,920</span> │ Temporal_Input[<span style=\"color: #00af00; text-decoration-color: #00af00\">0</span>… │\n",
       "├─────────────────────┼───────────────────┼────────────┼───────────────────┤\n",
       "│ dense (<span style=\"color: #0087ff; text-decoration-color: #0087ff\">Dense</span>)       │ (<span style=\"color: #00d7ff; text-decoration-color: #00d7ff\">None</span>, <span style=\"color: #00af00; text-decoration-color: #00af00\">32</span>)        │        <span style=\"color: #00af00; text-decoration-color: #00af00\">128</span> │ Spatial_Input[<span style=\"color: #00af00; text-decoration-color: #00af00\">0</span>]… │\n",
       "├─────────────────────┼───────────────────┼────────────┼───────────────────┤\n",
       "│ dropout (<span style=\"color: #0087ff; text-decoration-color: #0087ff\">Dropout</span>)   │ (<span style=\"color: #00d7ff; text-decoration-color: #00d7ff\">None</span>, <span style=\"color: #00af00; text-decoration-color: #00af00\">64</span>)        │          <span style=\"color: #00af00; text-decoration-color: #00af00\">0</span> │ lstm[<span style=\"color: #00af00; text-decoration-color: #00af00\">0</span>][<span style=\"color: #00af00; text-decoration-color: #00af00\">0</span>]        │\n",
       "├─────────────────────┼───────────────────┼────────────┼───────────────────┤\n",
       "│ dropout_1 (<span style=\"color: #0087ff; text-decoration-color: #0087ff\">Dropout</span>) │ (<span style=\"color: #00d7ff; text-decoration-color: #00d7ff\">None</span>, <span style=\"color: #00af00; text-decoration-color: #00af00\">32</span>)        │          <span style=\"color: #00af00; text-decoration-color: #00af00\">0</span> │ dense[<span style=\"color: #00af00; text-decoration-color: #00af00\">0</span>][<span style=\"color: #00af00; text-decoration-color: #00af00\">0</span>]       │\n",
       "├─────────────────────┼───────────────────┼────────────┼───────────────────┤\n",
       "│ concatenate         │ (<span style=\"color: #00d7ff; text-decoration-color: #00d7ff\">None</span>, <span style=\"color: #00af00; text-decoration-color: #00af00\">96</span>)        │          <span style=\"color: #00af00; text-decoration-color: #00af00\">0</span> │ dropout[<span style=\"color: #00af00; text-decoration-color: #00af00\">0</span>][<span style=\"color: #00af00; text-decoration-color: #00af00\">0</span>],    │\n",
       "│ (<span style=\"color: #0087ff; text-decoration-color: #0087ff\">Concatenate</span>)       │                   │            │ dropout_1[<span style=\"color: #00af00; text-decoration-color: #00af00\">0</span>][<span style=\"color: #00af00; text-decoration-color: #00af00\">0</span>]   │\n",
       "├─────────────────────┼───────────────────┼────────────┼───────────────────┤\n",
       "│ dense_1 (<span style=\"color: #0087ff; text-decoration-color: #0087ff\">Dense</span>)     │ (<span style=\"color: #00d7ff; text-decoration-color: #00d7ff\">None</span>, <span style=\"color: #00af00; text-decoration-color: #00af00\">32</span>)        │      <span style=\"color: #00af00; text-decoration-color: #00af00\">3,104</span> │ concatenate[<span style=\"color: #00af00; text-decoration-color: #00af00\">0</span>][<span style=\"color: #00af00; text-decoration-color: #00af00\">0</span>] │\n",
       "├─────────────────────┼───────────────────┼────────────┼───────────────────┤\n",
       "│ dense_2 (<span style=\"color: #0087ff; text-decoration-color: #0087ff\">Dense</span>)     │ (<span style=\"color: #00d7ff; text-decoration-color: #00d7ff\">None</span>, <span style=\"color: #00af00; text-decoration-color: #00af00\">4</span>)         │        <span style=\"color: #00af00; text-decoration-color: #00af00\">132</span> │ dense_1[<span style=\"color: #00af00; text-decoration-color: #00af00\">0</span>][<span style=\"color: #00af00; text-decoration-color: #00af00\">0</span>]     │\n",
       "└─────────────────────┴───────────────────┴────────────┴───────────────────┘\n",
       "</pre>\n"
      ],
      "text/plain": [
       "┏━━━━━━━━━━━━━━━━━━━━━┳━━━━━━━━━━━━━━━━━━━┳━━━━━━━━━━━━┳━━━━━━━━━━━━━━━━━━━┓\n",
       "┃\u001b[1m \u001b[0m\u001b[1mLayer (type)       \u001b[0m\u001b[1m \u001b[0m┃\u001b[1m \u001b[0m\u001b[1mOutput Shape     \u001b[0m\u001b[1m \u001b[0m┃\u001b[1m \u001b[0m\u001b[1m   Param #\u001b[0m\u001b[1m \u001b[0m┃\u001b[1m \u001b[0m\u001b[1mConnected to     \u001b[0m\u001b[1m \u001b[0m┃\n",
       "┡━━━━━━━━━━━━━━━━━━━━━╇━━━━━━━━━━━━━━━━━━━╇━━━━━━━━━━━━╇━━━━━━━━━━━━━━━━━━━┩\n",
       "│ Temporal_Input      │ (\u001b[38;5;45mNone\u001b[0m, \u001b[38;5;34m100\u001b[0m, \u001b[38;5;34m5\u001b[0m)    │          \u001b[38;5;34m0\u001b[0m │ -                 │\n",
       "│ (\u001b[38;5;33mInputLayer\u001b[0m)        │                   │            │                   │\n",
       "├─────────────────────┼───────────────────┼────────────┼───────────────────┤\n",
       "│ Spatial_Input       │ (\u001b[38;5;45mNone\u001b[0m, \u001b[38;5;34m3\u001b[0m)         │          \u001b[38;5;34m0\u001b[0m │ -                 │\n",
       "│ (\u001b[38;5;33mInputLayer\u001b[0m)        │                   │            │                   │\n",
       "├─────────────────────┼───────────────────┼────────────┼───────────────────┤\n",
       "│ lstm (\u001b[38;5;33mLSTM\u001b[0m)         │ (\u001b[38;5;45mNone\u001b[0m, \u001b[38;5;34m64\u001b[0m)        │     \u001b[38;5;34m17,920\u001b[0m │ Temporal_Input[\u001b[38;5;34m0\u001b[0m… │\n",
       "├─────────────────────┼───────────────────┼────────────┼───────────────────┤\n",
       "│ dense (\u001b[38;5;33mDense\u001b[0m)       │ (\u001b[38;5;45mNone\u001b[0m, \u001b[38;5;34m32\u001b[0m)        │        \u001b[38;5;34m128\u001b[0m │ Spatial_Input[\u001b[38;5;34m0\u001b[0m]… │\n",
       "├─────────────────────┼───────────────────┼────────────┼───────────────────┤\n",
       "│ dropout (\u001b[38;5;33mDropout\u001b[0m)   │ (\u001b[38;5;45mNone\u001b[0m, \u001b[38;5;34m64\u001b[0m)        │          \u001b[38;5;34m0\u001b[0m │ lstm[\u001b[38;5;34m0\u001b[0m][\u001b[38;5;34m0\u001b[0m]        │\n",
       "├─────────────────────┼───────────────────┼────────────┼───────────────────┤\n",
       "│ dropout_1 (\u001b[38;5;33mDropout\u001b[0m) │ (\u001b[38;5;45mNone\u001b[0m, \u001b[38;5;34m32\u001b[0m)        │          \u001b[38;5;34m0\u001b[0m │ dense[\u001b[38;5;34m0\u001b[0m][\u001b[38;5;34m0\u001b[0m]       │\n",
       "├─────────────────────┼───────────────────┼────────────┼───────────────────┤\n",
       "│ concatenate         │ (\u001b[38;5;45mNone\u001b[0m, \u001b[38;5;34m96\u001b[0m)        │          \u001b[38;5;34m0\u001b[0m │ dropout[\u001b[38;5;34m0\u001b[0m][\u001b[38;5;34m0\u001b[0m],    │\n",
       "│ (\u001b[38;5;33mConcatenate\u001b[0m)       │                   │            │ dropout_1[\u001b[38;5;34m0\u001b[0m][\u001b[38;5;34m0\u001b[0m]   │\n",
       "├─────────────────────┼───────────────────┼────────────┼───────────────────┤\n",
       "│ dense_1 (\u001b[38;5;33mDense\u001b[0m)     │ (\u001b[38;5;45mNone\u001b[0m, \u001b[38;5;34m32\u001b[0m)        │      \u001b[38;5;34m3,104\u001b[0m │ concatenate[\u001b[38;5;34m0\u001b[0m][\u001b[38;5;34m0\u001b[0m] │\n",
       "├─────────────────────┼───────────────────┼────────────┼───────────────────┤\n",
       "│ dense_2 (\u001b[38;5;33mDense\u001b[0m)     │ (\u001b[38;5;45mNone\u001b[0m, \u001b[38;5;34m4\u001b[0m)         │        \u001b[38;5;34m132\u001b[0m │ dense_1[\u001b[38;5;34m0\u001b[0m][\u001b[38;5;34m0\u001b[0m]     │\n",
       "└─────────────────────┴───────────────────┴────────────┴───────────────────┘\n"
      ]
     },
     "metadata": {},
     "output_type": "display_data"
    },
    {
     "data": {
      "text/html": [
       "<pre style=\"white-space:pre;overflow-x:auto;line-height:normal;font-family:Menlo,'DejaVu Sans Mono',consolas,'Courier New',monospace\"><span style=\"font-weight: bold\"> Total params: </span><span style=\"color: #00af00; text-decoration-color: #00af00\">63,854</span> (249.43 KB)\n",
       "</pre>\n"
      ],
      "text/plain": [
       "\u001b[1m Total params: \u001b[0m\u001b[38;5;34m63,854\u001b[0m (249.43 KB)\n"
      ]
     },
     "metadata": {},
     "output_type": "display_data"
    },
    {
     "data": {
      "text/html": [
       "<pre style=\"white-space:pre;overflow-x:auto;line-height:normal;font-family:Menlo,'DejaVu Sans Mono',consolas,'Courier New',monospace\"><span style=\"font-weight: bold\"> Trainable params: </span><span style=\"color: #00af00; text-decoration-color: #00af00\">21,284</span> (83.14 KB)\n",
       "</pre>\n"
      ],
      "text/plain": [
       "\u001b[1m Trainable params: \u001b[0m\u001b[38;5;34m21,284\u001b[0m (83.14 KB)\n"
      ]
     },
     "metadata": {},
     "output_type": "display_data"
    },
    {
     "data": {
      "text/html": [
       "<pre style=\"white-space:pre;overflow-x:auto;line-height:normal;font-family:Menlo,'DejaVu Sans Mono',consolas,'Courier New',monospace\"><span style=\"font-weight: bold\"> Non-trainable params: </span><span style=\"color: #00af00; text-decoration-color: #00af00\">0</span> (0.00 B)\n",
       "</pre>\n"
      ],
      "text/plain": [
       "\u001b[1m Non-trainable params: \u001b[0m\u001b[38;5;34m0\u001b[0m (0.00 B)\n"
      ]
     },
     "metadata": {},
     "output_type": "display_data"
    },
    {
     "data": {
      "text/html": [
       "<pre style=\"white-space:pre;overflow-x:auto;line-height:normal;font-family:Menlo,'DejaVu Sans Mono',consolas,'Courier New',monospace\"><span style=\"font-weight: bold\"> Optimizer params: </span><span style=\"color: #00af00; text-decoration-color: #00af00\">42,570</span> (166.29 KB)\n",
       "</pre>\n"
      ],
      "text/plain": [
       "\u001b[1m Optimizer params: \u001b[0m\u001b[38;5;34m42,570\u001b[0m (166.29 KB)\n"
      ]
     },
     "metadata": {},
     "output_type": "display_data"
    }
   ],
   "source": [
    "# Train\n",
    "model.fit(\n",
    "    [X_temp_train, X_spat_train], y_train,\n",
    "    validation_data=([X_temp_test, X_spat_test], y_test),\n",
    "    epochs=20, batch_size=16, verbose=2\n",
    ")\n",
    "\n",
    "# Summary\n",
    "model.summary()"
   ]
  },
  {
   "cell_type": "code",
   "execution_count": 10,
   "id": "1cb94c8c",
   "metadata": {},
   "outputs": [
    {
     "name": "stdout",
     "output_type": "stream",
     "text": [
      "\u001b[1m19/19\u001b[0m \u001b[32m━━━━━━━━━━━━━━━━━━━━\u001b[0m\u001b[37m\u001b[0m \u001b[1m1s\u001b[0m 44ms/step\n",
      "Test Accuracy: 0.7533333333333333\n",
      "\n",
      "Classification Report:\n",
      "              precision    recall  f1-score   support\n",
      "\n",
      "   Corrosion       0.75      0.94      0.83       108\n",
      "       Crack       0.69      0.68      0.68       192\n",
      "Misalignment       0.86      0.76      0.81       168\n",
      "         nan       0.73      0.70      0.72       132\n",
      "\n",
      "    accuracy                           0.75       600\n",
      "   macro avg       0.76      0.77      0.76       600\n",
      "weighted avg       0.76      0.75      0.75       600\n",
      "\n"
     ]
    }
   ],
   "source": [
    "from sklearn.metrics import accuracy_score, classification_report\n",
    "\n",
    "# Predict\n",
    "y_pred_probs = model.predict([X_temp_test, X_spat_test])\n",
    "y_pred = np.argmax(y_pred_probs, axis=1)\n",
    "\n",
    "# Accuracy\n",
    "print(\"Test Accuracy:\", accuracy_score(y_test, y_pred))\n",
    "\n",
    "# Classification Report\n",
    "print(\"\\nClassification Report:\")\n",
    "target_names = [str(cls) for cls in label_encoder.classes_]\n",
    "print(classification_report(y_test, y_pred, target_names=target_names))\n"
   ]
  },
  {
   "cell_type": "code",
   "execution_count": null,
   "id": "95776d01",
   "metadata": {},
   "outputs": [],
   "source": []
  }
 ],
 "metadata": {
  "kernelspec": {
   "display_name": "Python 3",
   "language": "python",
   "name": "python3"
  },
  "language_info": {
   "codemirror_mode": {
    "name": "ipython",
    "version": 3
   },
   "file_extension": ".py",
   "mimetype": "text/x-python",
   "name": "python",
   "nbconvert_exporter": "python",
   "pygments_lexer": "ipython3",
   "version": "3.12.5"
  }
 },
 "nbformat": 4,
 "nbformat_minor": 5
}
